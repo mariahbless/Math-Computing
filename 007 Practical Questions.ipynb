{
 "cells": [
  {
   "cell_type": "markdown",
   "id": "f538357d-efd9-4de2-98d4-85622be420fa",
   "metadata": {},
   "source": [
    "# Question Five"
   ]
  },
  {
   "cell_type": "code",
   "execution_count": 23,
   "id": "994467c8-c694-4cf8-b260-f14880eff272",
   "metadata": {},
   "outputs": [],
   "source": [
    "import numpy as np"
   ]
  },
  {
   "cell_type": "markdown",
   "id": "fdd60904-d695-429d-9aac-58f73734cdbf",
   "metadata": {},
   "source": [
    "# as a numpy array)"
   ]
  },
  {
   "cell_type": "code",
   "execution_count": 24,
   "id": "47f52b04-f4ca-4af2-a644-2169ac527c6a",
   "metadata": {},
   "outputs": [
    {
     "data": {
      "text/plain": [
       "array([[1. , 0.2, 0.5],\n",
       "       [0.2, 1. , 0.8],\n",
       "       [0.5, 0.8, 1. ]])"
      ]
     },
     "execution_count": 24,
     "metadata": {},
     "output_type": "execute_result"
    }
   ],
   "source": [
    "Matrix_P = ([[1,0.2,0.5],[0.2,1,0.8],[0.5,0.8,1]])\n",
    "Array = np.array(Matrix_P)\n",
    "Array\n",
    "# This translate the normal matrix into a numpy array"
   ]
  },
  {
   "cell_type": "markdown",
   "id": "e787b19a-60cb-4819-926a-6e0e5992f1c6",
   "metadata": {},
   "source": [
    "# i)"
   ]
  },
  {
   "cell_type": "code",
   "execution_count": null,
   "id": "e64047fa-3ac7-41b5-95e0-2211f5c680ce",
   "metadata": {},
   "outputs": [],
   "source": []
  },
  {
   "cell_type": "code",
   "execution_count": 25,
   "id": "ed498d91-6c3c-4d73-b487-1ed622cb9edc",
   "metadata": {},
   "outputs": [
    {
     "data": {
      "text/plain": [
       "array([[1. , 0.2, 0.5],\n",
       "       [0.2, 1. , 0.8],\n",
       "       [0.5, 0.8, 1. ]])"
      ]
     },
     "execution_count": 25,
     "metadata": {},
     "output_type": "execute_result"
    }
   ],
   "source": [
    "Matrix_P = ([[1,0.2,0.5],[0.2,1,0.8],[0.5,0.8,1]])\n",
    "transpose = np.transpose(Matrix_P)\n",
    "transpose"
   ]
  },
  {
   "cell_type": "code",
   "execution_count": 26,
   "id": "0eadc253-96b7-41ae-bbe0-15ad8f596caf",
   "metadata": {},
   "outputs": [
    {
     "data": {
      "text/plain": [
       "array([[ 1.56521739,  0.86956522, -1.47826087],\n",
       "       [ 0.86956522,  3.26086957, -3.04347826],\n",
       "       [-1.47826087, -3.04347826,  4.17391304]])"
      ]
     },
     "execution_count": 26,
     "metadata": {},
     "output_type": "execute_result"
    }
   ],
   "source": [
    "Matrix_P = ([[1,0.2,0.5],[0.2,1,0.8],[0.5,0.8,1]])\n",
    "Inversion = np.linalg.inv(transpose)\n",
    "Inversion\n",
    "#Here we are getting the inverse of the matrix after its transpose"
   ]
  },
  {
   "cell_type": "markdown",
   "id": "ce2344ae-242d-402c-8456-1effcd6241e5",
   "metadata": {},
   "source": [
    "# ii)"
   ]
  },
  {
   "cell_type": "code",
   "execution_count": 27,
   "id": "c3fc3046-9d91-4632-a667-053593c8fe34",
   "metadata": {},
   "outputs": [
    {
     "data": {
      "text/plain": [
       "np.float64(0.2299999999999999)"
      ]
     },
     "execution_count": 27,
     "metadata": {},
     "output_type": "execute_result"
    }
   ],
   "source": [
    "Matrix_P = ([[1,0.2,0.5],[0.2,1,0.8],[0.5,0.8,1]])\n",
    "Determinant = np.linalg.det(Matrix_P)\n",
    "Determinant\n",
    "# Here the linaglgebra returns the determinant of the matrix in a anumpy array"
   ]
  },
  {
   "cell_type": "code",
   "execution_count": 28,
   "id": "a88e76ee-666a-47c9-91c7-d27779380bb4",
   "metadata": {},
   "outputs": [],
   "source": [
    "import seaborn as sns"
   ]
  },
  {
   "cell_type": "code",
   "execution_count": 29,
   "id": "2e7b9d4d-6b59-4ea9-9791-340b8546c45d",
   "metadata": {},
   "outputs": [],
   "source": [
    "import matplotlib.pyplot as plt"
   ]
  },
  {
   "cell_type": "code",
   "execution_count": null,
   "id": "b3b2ba82-d156-45d9-97f9-8f9f4b6a9efe",
   "metadata": {},
   "outputs": [],
   "source": []
  },
  {
   "cell_type": "markdown",
   "id": "86ed22a5-4f07-4585-944d-86b14d44c10a",
   "metadata": {},
   "source": [
    "# Question six"
   ]
  },
  {
   "cell_type": "markdown",
   "id": "8d756866-820b-42c9-bfff-17e46cb451c9",
   "metadata": {},
   "source": [
    "# i)"
   ]
  },
  {
   "cell_type": "code",
   "execution_count": 30,
   "id": "12c125ae-ea48-4766-8875-12908fde5887",
   "metadata": {},
   "outputs": [],
   "source": [
    "from numpy import random"
   ]
  },
  {
   "cell_type": "code",
   "execution_count": 31,
   "id": "ea2a0ea6-93bb-4791-abd1-cd50a7f0ac2b",
   "metadata": {},
   "outputs": [
    {
     "data": {
      "text/plain": [
       "array([ 5,  5,  3,  3,  4,  2,  5,  3,  5,  3,  3,  4,  4,  4,  3,  4,  6,\n",
       "        6,  3,  6,  4,  3,  6,  0,  5,  7,  5,  4,  1,  9,  4,  6,  0,  9,\n",
       "        1,  4,  8,  4,  4,  6,  3,  7,  3,  2,  0,  4,  5,  6,  4,  4,  5,\n",
       "        6,  4,  6,  3,  2, 11,  3,  4,  3,  7,  1,  4,  8,  2,  8,  4,  3,\n",
       "        5,  2,  3,  7,  5,  5,  4,  7,  6,  3,  6,  8,  5,  5,  8,  2,  5,\n",
       "        5,  6,  3,  5,  5,  7,  3,  5,  3,  4, 10,  8,  6,  7,  6,  3,  6,\n",
       "        3,  7,  7,  4,  3, 10,  8,  2,  5,  0,  4,  4,  5,  4,  3,  7,  5,\n",
       "        1,  9,  8,  4,  6,  6,  4,  3,  4,  5,  5,  8,  5,  6,  6,  8,  6,\n",
       "        3,  4, 10,  6,  5,  6,  4,  2,  2,  6,  3,  6,  4,  3,  4,  6,  4,\n",
       "        3, 12, 10,  3, 10,  3,  3, 11,  5,  3,  6,  6,  4,  6,  3,  4,  4,\n",
       "        5,  7,  6,  4,  6,  4,  5,  2,  5,  5,  3,  3,  4,  4,  8,  6,  2,\n",
       "        5,  6,  6,  4,  2,  7,  3,  4,  7,  6,  4,  7,  6,  4,  5,  5,  5,\n",
       "        4,  6,  9,  5,  9,  7,  6,  5,  7,  6,  9,  4,  8,  9,  4, 11,  6,\n",
       "        8,  7,  4,  3,  7,  3,  4,  5,  4,  4,  4,  2,  7,  7,  7,  8, 10,\n",
       "        3,  4,  5,  6,  3,  7,  9,  5,  3,  3,  4,  4, 14,  8,  4,  4,  5,\n",
       "        3,  8,  1,  6,  5,  8, 10,  6,  6,  4,  6,  2,  4,  3,  3,  3,  5,\n",
       "        2,  7,  2,  3,  2,  4,  6,  7,  8,  6,  5,  3,  6,  3,  5,  2,  4,\n",
       "        7,  6,  8,  5,  7,  5,  5,  7,  6,  6,  6,  3,  5,  2,  5,  7,  5,\n",
       "        2,  5,  4,  5,  6,  5,  2,  3,  8,  3,  7,  4,  1,  5,  4,  7,  4,\n",
       "        6,  7,  6,  5,  2,  4,  7,  5,  6,  6,  5,  7, 13,  9,  6,  8,  4,\n",
       "        6,  7,  3,  5,  6,  3,  1,  5,  6,  8,  4,  9,  9,  5,  7,  5,  3,\n",
       "       11,  8,  5,  2,  1,  7,  7,  6,  2,  3,  6,  5,  0,  7,  5,  6,  5,\n",
       "        6,  9,  4,  3,  2,  6,  3,  4,  7,  6,  8,  3,  4,  8,  9,  5,  2,\n",
       "        7,  3,  3,  5,  4,  2,  8,  3,  5,  7,  3,  5,  7,  4,  3,  3,  4,\n",
       "        4,  3,  3,  6,  8,  8,  7,  5,  2,  4,  3,  3,  5,  3,  6,  5,  5,\n",
       "        6,  8,  5,  1,  3,  3,  6,  2,  5,  8,  4,  5,  4,  6, 12,  2,  9,\n",
       "        3,  9,  3,  5,  3,  3,  3,  8,  4,  3,  7,  5,  9,  4,  4,  1,  5,\n",
       "        6,  9,  7,  4,  1,  5,  6,  3,  4,  6,  9,  5,  5,  6,  7,  5,  5,\n",
       "        4,  9,  4,  7,  5, 12,  8,  8,  2,  5,  8,  5,  6,  9,  4,  3,  7,\n",
       "        7,  8,  3,  2,  4,  3,  6,  6,  6,  4,  6,  2,  6,  0, 10,  6,  5,\n",
       "        5,  6,  7,  2,  1,  4,  9,  4,  4,  5,  3,  3,  5,  8,  9,  4,  3,\n",
       "        2,  1,  4,  8,  5,  2,  5,  6,  2,  3,  3,  2,  4,  3,  7,  3,  5,\n",
       "        8,  2,  7,  5,  8,  9,  3,  5,  5,  2,  8,  4,  5,  5,  3,  6,  3,\n",
       "        4,  4,  5,  8,  6,  8,  4,  6,  7,  4,  5,  3,  3,  7,  6,  4,  7,\n",
       "        4,  6,  5,  3,  4,  0,  2,  5,  3,  3,  8,  6,  6,  9,  1,  6,  3,\n",
       "        1,  3,  3,  7,  5,  8,  1,  7,  6,  2,  5,  0,  6,  6,  4,  4,  3,\n",
       "        4,  6,  8,  6,  4,  4,  8,  9, 11,  5,  7,  3,  9, 10,  6,  3,  3,\n",
       "        5,  6,  7,  6, 10,  3,  6,  4,  3,  5,  2,  6,  4,  3,  6,  3,  6,\n",
       "        7,  3,  4,  6,  5,  3,  6,  8,  5, 10,  5,  6,  3,  5,  8,  2,  6,\n",
       "        5,  6,  4,  4,  3,  5,  8,  5,  4,  4,  4,  2,  4,  3,  6,  4,  9,\n",
       "       10,  5,  7,  2,  2,  5,  5,  4,  2,  5,  6,  1,  2,  6,  6,  4,  1,\n",
       "        4,  3,  5,  8,  2,  7,  6,  4, 10,  5,  3,  1,  3,  3,  5,  6,  7,\n",
       "        1,  4,  2,  5,  7,  2,  8,  5,  6,  3,  8,  4,  9,  5,  2,  3,  3,\n",
       "        2,  6,  3,  4,  8,  9,  8,  1,  4,  6, 11,  7,  4,  1,  0,  3,  7,\n",
       "        6,  3,  3,  5,  5, 11, 13,  4,  3,  2,  3,  7,  5,  6,  1,  8,  3,\n",
       "        8,  5,  3,  2,  3,  6,  3,  5,  0,  3,  3,  5,  7,  6,  4,  2,  7,\n",
       "        4,  3,  5,  5,  5,  6,  5,  3,  6,  4,  4,  4,  7,  6,  6,  5,  6,\n",
       "        3,  8,  7,  7,  4,  6,  3,  6,  7,  8,  5,  4,  2,  3,  6,  1,  4,\n",
       "        8,  5,  5,  5,  2,  7,  7,  9,  3,  6,  3,  8,  5,  9,  0,  8,  5,\n",
       "        3,  7,  4,  7,  4,  3,  4,  5,  5,  7,  9,  2,  4,  6,  4,  4,  4,\n",
       "        7,  9,  5,  5,  7,  5,  2,  7,  3,  3,  3, 10,  5,  3,  6,  5,  3,\n",
       "        8,  3,  5,  4,  3,  8,  2,  5,  4,  5,  4,  5,  4,  6,  8,  5,  8,\n",
       "        4,  4,  5,  2,  3,  8,  5,  7,  5,  3,  3,  6,  4,  7,  9,  1,  7,\n",
       "        6, 12,  1,  5,  4,  7,  5,  2,  8,  5,  3,  5,  4,  3,  4,  8,  7,\n",
       "        4,  0,  6, 11,  5,  3,  3,  5,  9,  7,  6,  4,  3,  3,  4,  5,  5,\n",
       "       11,  2,  6,  3,  8, 12,  5,  4,  6,  4,  7,  7,  7,  7,  7,  7,  7,\n",
       "        4,  4,  2,  2,  4, 11,  2,  2,  6,  4,  4,  5,  5,  4,  6,  6,  5,\n",
       "        2,  4,  2,  5,  8,  1,  7,  4,  8,  3,  1,  4,  5,  4,  8, 12,  3,\n",
       "        7,  3,  6,  4,  3,  3,  9,  2,  7,  3,  3,  3,  6,  6],\n",
       "      dtype=int32)"
      ]
     },
     "execution_count": 31,
     "metadata": {},
     "output_type": "execute_result"
    }
   ],
   "source": [
    "Poisson_Distribution =random.poisson (lam = 5, size = 1000)\n",
    "Poisson_Distribution\n",
    "#lam represents the number of occurance which in this case is 5"
   ]
  },
  {
   "cell_type": "markdown",
   "id": "891fea58-38dd-4cf8-bac7-9ec1df5a7f14",
   "metadata": {},
   "source": [
    "# ii)"
   ]
  },
  {
   "cell_type": "code",
   "execution_count": 32,
   "id": "cba04030-ef34-42b5-a6b2-c56f219b69b2",
   "metadata": {},
   "outputs": [
    {
     "data": {
      "text/plain": [
       "array([ 3.75971157,  4.55733115,  2.16868872,  4.94600771,  3.68937922,\n",
       "        2.29737825,  2.31259486,  6.1307705 ,  3.66400629,  3.6129088 ,\n",
       "        4.70438738,  7.33749551, 10.12913745,  5.9002439 ,  4.66804282,\n",
       "        8.93825769,  5.21151565,  5.81858391,  2.95534825,  5.3324811 ,\n",
       "        2.31935505,  6.56839906,  5.94551631,  2.60426203,  3.71862198,\n",
       "        7.37593769,  3.18469505,  1.9338188 ,  5.80645036,  4.0775468 ,\n",
       "        5.24362158,  5.88989878,  7.63551105,  4.12558988,  3.51699335,\n",
       "        4.1136151 ,  9.27078309,  5.05302933,  0.99647893,  7.79745952,\n",
       "        3.21472477,  6.83904445,  3.34975905,  3.13083498,  1.30212267,\n",
       "        3.34987571,  3.12695976,  3.30359963,  3.99957992,  4.07455164,\n",
       "        8.98233273,  3.86338478,  6.80550707,  5.36634719,  7.26927172,\n",
       "        5.74277776,  4.38513681,  5.65367779,  4.87653801,  7.42996915,\n",
       "        4.53529804,  2.63660126,  4.41311418,  4.01553733,  9.3577753 ,\n",
       "        6.02968697,  3.7895512 ,  4.26200179,  3.81633366,  8.01438833,\n",
       "        0.39483565,  4.28935995,  3.61272888,  1.25957706,  8.61681365,\n",
       "        3.66110321,  5.12603507, -0.54890692,  4.5409917 ,  5.23004554,\n",
       "        1.66571225,  2.36537351,  3.25899477,  1.69313108,  7.57393941,\n",
       "        5.93088834,  6.44007157,  7.06697413,  5.22613041,  6.21768673,\n",
       "        3.1747977 ,  8.15999812,  5.80490239,  6.2335911 ,  3.17385734,\n",
       "        2.59843756,  2.35837724,  4.16548473,  4.78486738,  4.94787332,\n",
       "        5.91963631,  5.20320835,  2.62349483,  5.55925449,  5.94923201,\n",
       "        5.73228594,  4.30957095,  5.56221779,  6.08685568,  5.21327836,\n",
       "        4.01763909,  5.72875251,  7.34873039,  8.12782781,  6.07603774,\n",
       "        5.17980651,  8.65526807,  4.64961727,  4.76886175,  6.62150628,\n",
       "        6.304355  ,  7.94268   ,  2.84455435,  1.0509122 ,  3.63187816,\n",
       "       11.02469392,  6.76442825,  7.00996167,  1.93848723,  5.66303532,\n",
       "        4.28527895,  4.21394771,  2.96720305,  5.13943374,  6.55107449,\n",
       "        5.96075867,  5.27158283,  4.38746763,  6.85766472,  3.60054401,\n",
       "        5.57310278,  4.57025308,  4.50379518,  2.87665243,  4.90929004,\n",
       "        7.61832157,  6.56622335,  6.47618478,  5.58417935,  7.14784169,\n",
       "        3.26107009,  5.43532229,  5.88785598,  4.20601987,  4.22533019,\n",
       "        0.85989043,  6.74768738,  3.19379697,  2.75952488,  4.51348126,\n",
       "        4.73521491,  3.92725513,  6.30882046,  9.16959575,  4.8950371 ,\n",
       "        1.40987302,  4.54120902,  4.38484667,  4.47299074,  3.05609278,\n",
       "        4.12173918,  2.17264361,  7.08714655,  6.78486185,  6.25302304,\n",
       "        4.75546565,  3.54327861,  1.01245063,  7.23734883,  6.25599605,\n",
       "        6.95043678,  1.3470747 ,  4.29765883,  5.98892888,  3.81538877,\n",
       "        3.83030696,  4.19680809,  2.27858277,  6.24712264,  5.76850496,\n",
       "        7.69416248,  4.05726559,  5.91339673,  2.1835109 ,  6.41150212,\n",
       "        2.82285346,  6.65310437,  5.93615307,  5.24193964,  4.23984725,\n",
       "        0.43347554,  4.0696693 ,  5.12148095,  6.92954899,  4.49446721,\n",
       "        7.37640664,  5.21950987,  3.47411833,  7.97246456,  3.98840885,\n",
       "        4.83343581,  6.02777665,  7.29473554,  8.88228882,  7.68099472,\n",
       "        7.7688434 ,  3.87026423,  2.3849498 ,  2.57040028,  0.79319432,\n",
       "        6.57061847,  6.72794069,  4.99387143,  5.47362778,  2.2720711 ,\n",
       "        9.96155493,  3.21883554,  3.16119382,  3.97873135,  5.47288003,\n",
       "        1.01527552,  6.51067875,  4.47159086,  2.68657364,  5.81953474,\n",
       "        5.84308249,  6.93008526,  5.24119248,  6.18919355,  4.07374831,\n",
       "        6.79103638,  3.33034281,  6.52137773,  7.30582479,  8.7431997 ,\n",
       "        6.87916363,  1.94401726,  3.76333849,  6.01962052,  6.01853382,\n",
       "        5.99689638,  1.66212908,  6.18876456,  2.95233965,  2.99708348,\n",
       "        4.55261938,  6.6022085 ,  4.86696763,  4.5817363 ,  5.34618356,\n",
       "        8.19255324,  4.69016568,  3.94654114,  3.30400392,  4.662755  ,\n",
       "        7.1753725 ,  2.40568911,  7.58517373,  3.57922206,  3.86750184,\n",
       "        6.63775853,  6.71270669,  7.28460177,  4.41424941,  4.26162827,\n",
       "        4.50490988,  4.23436654,  4.40768437,  8.20571261,  2.95655605,\n",
       "        1.778588  ,  7.94481999,  4.49540543, 11.04504615,  1.52827707,\n",
       "        8.28235072,  5.13786792,  5.44894476,  7.32229095,  1.64220014,\n",
       "        6.64143466,  4.67004746,  4.50420622,  8.81608524,  6.09238777,\n",
       "        5.2832275 ,  3.31290578,  2.33812159,  6.9345162 ,  2.18401348,\n",
       "        3.27314468,  4.69480411,  4.33731593,  6.13307943,  0.44028823,\n",
       "        1.02290813,  4.21346744,  8.1972706 ,  3.7445293 ,  5.03929585,\n",
       "        1.41451384,  8.79026865,  4.03394927,  5.88128092,  7.98974831,\n",
       "        6.96968447,  5.35060644,  4.22878039,  5.97117033,  6.46200408,\n",
       "        8.48553242,  6.69283222,  3.54474613,  5.67241306,  4.89665997,\n",
       "        6.53516943,  8.87282674,  5.14665226,  9.78810822,  7.39794506,\n",
       "        4.67494673,  3.45411602,  7.25786545,  2.85727828,  4.70640683,\n",
       "        4.6465202 ,  2.34884297,  6.99807484,  2.06729374,  4.87725615,\n",
       "        4.33989163,  6.43593775,  3.82020097,  5.81730878,  5.80349258,\n",
       "        8.39943095,  4.638102  ,  5.8908066 ,  8.06034086,  2.69251011,\n",
       "        6.69480713,  8.12639148,  2.29145797,  6.75737354,  4.92723345,\n",
       "        7.29968232,  6.84599788,  5.9249512 ,  1.90534611,  1.92070533,\n",
       "        3.7377477 ,  5.06317384,  7.24836922,  3.94703091,  7.26232913,\n",
       "        4.48151488,  2.9769077 ,  2.76180408,  3.69791708,  5.96685162,\n",
       "        3.39313951,  4.58303125,  8.09974127,  6.64719438,  6.82816105,\n",
       "        5.86717342,  0.70499835,  4.59119093,  2.81228323,  2.78035097,\n",
       "        3.35057848,  3.60544958,  5.90751052,  1.91154627,  7.06513137,\n",
       "        3.92479445,  5.53341885,  1.79666824,  0.80089511,  5.91666589,\n",
       "        6.40370974,  7.6410012 ,  2.65372197,  7.40752109,  1.61339904,\n",
       "        3.774185  ,  6.24396084,  6.26761148,  4.00644923,  7.57620865,\n",
       "        3.5338688 ,  4.61723568,  6.68627898,  5.07359528,  8.32333561,\n",
       "        5.89082181,  6.29423489,  3.87425509,  5.2914854 ,  3.35304112,\n",
       "        1.73069535,  4.52938558,  6.80015268,  6.45602707,  6.20505038,\n",
       "        2.60688649,  7.79442342,  4.96475167,  6.20279047,  4.82021899,\n",
       "        6.6473939 ,  6.16564611,  3.89641867,  3.16793577,  3.21063161,\n",
       "        3.33308534,  3.251741  ,  5.41371653,  3.57623704,  5.040128  ,\n",
       "        1.99155156,  5.39076524,  3.5461716 , -0.56732645,  7.06958759,\n",
       "        6.0292814 ,  6.3879169 ,  7.76291753,  1.68541037,  3.86208984,\n",
       "        4.1651375 ,  6.5835478 ,  7.63154138,  5.42130979,  9.17691038,\n",
       "        1.62593376,  6.35176249,  7.54859617,  4.68308836,  7.16415726,\n",
       "        2.37036369,  6.38449341,  6.57854835,  7.83234857,  6.34797772,\n",
       "        1.77484791,  4.82105375,  4.39557073,  7.39494836,  5.26791491,\n",
       "        6.4221942 ,  0.94954671,  5.30414163,  2.32505894,  7.12809705,\n",
       "        3.90471613,  5.31559162,  1.36101218,  5.37507815,  6.52707102,\n",
       "        2.76945793,  6.66324672,  6.98266223,  9.62704508,  3.24256134,\n",
       "        5.17492963,  2.79970013,  5.71841008,  3.12724791,  2.97248281,\n",
       "        4.01297472,  9.5044649 ,  5.70838266, 10.12753195,  4.96271468,\n",
       "        5.91458308,  3.80628985,  7.02084581, 11.40595228,  5.68854485,\n",
       "        2.61498235,  5.52603893,  3.21681035,  6.00870227,  7.03181115,\n",
       "        1.79428331,  6.29518186,  2.62738947,  2.17536284,  4.7197785 ,\n",
       "        6.60121024,  6.36691097,  5.70791985,  6.92813645,  6.37464573,\n",
       "        1.84354865,  4.02062418,  7.96263326,  6.71820784,  3.99678265,\n",
       "        6.68687384,  3.87677738,  4.98260275,  5.29650049,  5.85743192,\n",
       "        6.71470833,  5.72354338, 11.38655049,  5.61186653,  4.43502873,\n",
       "        5.80354161,  3.98273029,  5.79564044,  4.17964133,  7.07045019,\n",
       "        4.80239151,  6.9027118 ,  3.53159921,  5.95554532,  3.91657427,\n",
       "        3.45048382,  5.43621049,  2.64826076,  6.54074312,  8.42799037,\n",
       "        4.83580734,  3.69111566,  7.47518943,  6.92964684,  6.96172817,\n",
       "        5.4968665 , 11.45259542,  7.51898346,  1.73536734,  6.76863506,\n",
       "        7.99784528,  7.7197736 ,  6.29555541,  9.48112581,  1.53710878,\n",
       "        5.22022528,  7.96311366,  8.0325019 ,  6.2275226 ,  2.88646985,\n",
       "        5.46138561,  5.15549944,  5.73658116,  4.17652133,  4.81272353,\n",
       "        8.45039102,  5.65589752,  5.24231267,  6.78600166,  9.21370354,\n",
       "        5.43490292, -0.7449692 ,  6.75245232,  4.79314012,  6.06641982,\n",
       "        1.72933823,  6.77047019,  5.03015376,  2.29972946,  0.97944496,\n",
       "        3.62704767,  4.12475644,  2.89734836,  3.76168117,  7.11706692,\n",
       "        6.79631741,  6.57531012,  5.56965225,  5.10383262,  3.26637679,\n",
       "        8.09628832,  5.68617571,  1.4874384 ,  5.274877  ,  5.89000454,\n",
       "        4.13958645,  5.36973134,  3.29068265,  4.81452957,  6.73307169,\n",
       "        4.69730101,  3.2589666 ,  3.55258202,  5.28523731,  4.52700387,\n",
       "        4.48454153,  6.00000978,  6.01591752,  4.93737057,  4.22504754,\n",
       "        3.42738033,  5.25311185,  6.06931324,  6.24774566,  6.13946162,\n",
       "        7.30911183,  3.30768066,  8.00602775,  7.10744317,  5.16868265,\n",
       "        2.06661097,  7.76122722,  3.59696274,  4.37868577,  6.41337426,\n",
       "        7.71226865,  3.70965459,  4.93918396,  6.71087215,  0.11191757,\n",
       "        6.10083336,  6.88549992,  8.72763791,  1.21150989,  2.04126199,\n",
       "        4.47436904,  6.96253157,  4.23022074,  4.61483023,  4.79684856,\n",
       "        3.00237535,  5.27925373,  2.42240333,  2.05313497,  1.701215  ,\n",
       "        6.73671065,  5.30615421,  5.70508293,  6.63098083,  6.84870595,\n",
       "        4.68494597,  4.56044581,  7.98454129,  3.68130469,  5.76288816,\n",
       "        5.06256573,  8.77539421,  5.47349591,  6.33198804,  7.18610783,\n",
       "        6.6816663 ,  6.51476474,  5.11882015,  8.37391284,  6.76573892,\n",
       "        3.09848405,  6.31856638,  2.77484098,  3.68430431,  5.64285326,\n",
       "        4.69498741,  5.80116514,  2.07891414,  3.52813754,  2.94432529,\n",
       "        7.9829521 ,  5.16446032,  6.51006811,  4.62554625,  4.98745577,\n",
       "        4.02888385,  4.4489788 ,  4.84987676,  1.03156073,  3.40200969,\n",
       "        6.18024479,  2.31915073,  7.02647818,  4.99917491,  1.58126764,\n",
       "        3.50123008,  8.91804621,  5.28424473,  4.43553289,  1.15557727,\n",
       "        5.3027454 , -0.49793839,  4.41324338,  5.40651983,  7.27490554,\n",
       "        7.30965457,  6.32237371,  5.33251422,  9.66610704,  3.25267339,\n",
       "        6.59639788,  1.38657169,  9.0940715 ,  1.90831885,  1.38013735,\n",
       "        6.3456364 ,  8.66685571,  0.8588914 ,  5.83179508,  4.67412108,\n",
       "        1.53071094,  4.33302878,  3.66873227,  5.13295484,  8.08537688,\n",
       "        5.29624633,  6.51235201,  7.74846318,  7.61471353,  5.65260508,\n",
       "        3.29083598,  7.4741789 ,  5.37772289,  7.4688366 ,  6.35865575,\n",
       "        4.72272819,  6.35898958,  2.85476038,  6.85819495,  6.13050013,\n",
       "        4.98527453,  6.07091943,  6.48693052,  8.77415808,  5.41784616,\n",
       "        4.23078409,  6.08799065,  3.07308277,  3.35989206, 10.15773187,\n",
       "       10.38453741,  5.71354745,  3.92309385,  4.248452  ,  4.96988546,\n",
       "        5.76352231,  3.75443282,  4.70841034,  4.41165579,  3.84013915,\n",
       "        2.47367499,  2.76710682,  8.116826  ,  4.50168978,  2.85473031,\n",
       "        7.29994683,  4.7804607 ,  3.34642997,  3.00364116,  3.77011626,\n",
       "        3.42951551,  4.80824031,  1.71380511,  3.32644798,  6.6678419 ,\n",
       "        4.3243406 ,  6.01296503,  4.49538126,  7.38823518,  2.25692863,\n",
       "        6.26353145,  5.8292236 ,  2.06596022,  1.08102481,  2.78801387,\n",
       "        4.01034096,  6.82278506,  3.38227244,  7.07272992,  5.40476227,\n",
       "        4.99953208,  4.82559309,  6.82594508,  5.8674703 ,  6.85397567,\n",
       "        5.44133968,  9.51412486,  3.10646154,  4.53869087,  3.10281681,\n",
       "        4.64470329,  4.34786337,  3.70151626,  5.4922817 ,  5.71070138,\n",
       "        4.0396185 ,  3.14532569,  7.1876638 ,  2.03805331,  5.42858455,\n",
       "        4.32531786,  5.6301976 ,  6.89823939,  0.07687872,  4.25861802,\n",
       "        5.52001285,  7.16264832,  6.36798677,  5.76117634,  7.24548098,\n",
       "        5.58830239,  4.23356096,  4.81389469,  9.28628631,  4.69808571,\n",
       "       -0.89489647,  7.52703003,  2.69843928,  2.19424403,  5.3146156 ,\n",
       "        1.6547042 ,  8.77788871,  2.35638548,  4.20589998,  1.93242458,\n",
       "        4.74964545,  5.66089066,  8.50464626,  8.69666857,  2.0275349 ,\n",
       "        2.43266533,  7.40317583,  6.54696503,  6.35824368,  7.31918443,\n",
       "        3.11482528,  7.05786246,  5.57494055,  0.07064182, -0.2518316 ,\n",
       "        6.21839249,  4.85917005,  3.63426842,  7.46740843,  5.93503339,\n",
       "        8.62015812,  4.51269718,  5.11626827,  4.73082182,  7.94598506,\n",
       "        9.64452781,  6.05277048,  9.53781977,  3.93356705,  3.46590496,\n",
       "        6.48499774,  6.39906663,  7.99193499,  3.01331516,  9.29358911,\n",
       "        6.03890759,  4.93780713,  3.69121146,  4.77223785,  6.25028473,\n",
       "        4.94094343,  6.35231081,  2.03894355,  9.73291111,  2.12099533,\n",
       "        4.85405412,  6.89227773,  1.97090753,  7.66356641, 10.67514647,\n",
       "        8.08782581,  2.77277642,  0.63622052,  4.42790882,  2.31210441,\n",
       "        5.41078206,  1.85127079,  5.77173332,  2.89030994,  2.67892097,\n",
       "        8.08102134,  7.87247403,  7.58347948,  6.97657636,  6.88291108,\n",
       "        4.97894773,  8.38212011,  6.54456515,  6.77035437,  5.21920746,\n",
       "        6.8008846 ,  5.95140596,  4.94492801,  7.21542732,  1.21847126,\n",
       "        2.58416414,  5.05977806,  2.31267843,  9.51252699,  6.07460168,\n",
       "        5.49779059,  8.08981616,  4.98507598,  2.48602259,  8.5609109 ,\n",
       "        4.81272947,  6.66334092,  7.45624583,  4.03725119,  4.71132446,\n",
       "        6.83679681,  2.33624684,  4.27869332,  3.34610201,  6.21850656,\n",
       "        5.86935098,  4.200217  ,  3.26872183,  8.39282338,  6.36279172,\n",
       "        7.41764641,  7.6355287 ,  3.02071432,  3.53778258,  4.96051571,\n",
       "        3.70668227,  3.63995086,  3.45617039,  5.05035737,  7.5518865 ,\n",
       "        2.59046954,  6.6548045 ,  7.15486996,  4.84227585,  7.60002859,\n",
       "        1.13643852,  5.00603361,  8.04479669,  4.22699306,  3.45972877,\n",
       "        4.98803914,  6.75368014,  4.82295781,  5.61682421,  4.25667069,\n",
       "        5.63068178,  5.62875827,  3.02963611,  3.46821413,  4.37437312,\n",
       "        2.62257933,  5.34878029,  6.05134086,  5.53106137,  4.90649202,\n",
       "        1.35075528,  5.45822693,  1.28882904,  3.75310246,  0.20641484,\n",
       "        2.93768054,  4.77450723,  4.34068624,  5.51168562,  4.77087328,\n",
       "        6.95324912,  7.17679046,  2.31703903,  3.06141873,  8.16936781,\n",
       "        9.2363755 ,  4.82571667,  4.75867775,  6.84045324,  5.82338593,\n",
       "        5.47039172,  9.00406372,  3.13984883,  4.23855038,  2.90971161,\n",
       "        5.45542128,  8.11000874,  4.9142063 ,  3.4733865 ,  5.14536551,\n",
       "        5.65565243,  2.85385947,  7.90501544,  7.62899068,  2.72531451,\n",
       "        6.63794886,  7.03806387,  5.95546706,  5.64662491,  4.14877376])"
      ]
     },
     "execution_count": 32,
     "metadata": {},
     "output_type": "execute_result"
    }
   ],
   "source": [
    "Mean = random.normal(loc=5, scale=2, size=1000)\n",
    "Mean\n",
    "# the mean requires loc and scale then the size"
   ]
  },
  {
   "cell_type": "markdown",
   "id": "995a5300-aaa4-47d2-9eb7-ed683982cff4",
   "metadata": {},
   "source": [
    "# iii)"
   ]
  },
  {
   "cell_type": "code",
   "execution_count": 33,
   "id": "accb799e-e898-4934-8b63-308acd08ccf7",
   "metadata": {},
   "outputs": [],
   "source": [
    "import seaborn as sns"
   ]
  },
  {
   "cell_type": "code",
   "execution_count": 34,
   "id": "cc3eaee3-4252-4adf-bcae-8615f68817dd",
   "metadata": {},
   "outputs": [],
   "source": [
    "from numpy import random\n",
    "import matplotlib.pyplot as plt"
   ]
  },
  {
   "cell_type": "code",
   "execution_count": 35,
   "id": "e316973d-aacd-40cb-8fe3-dfe83e99805f",
   "metadata": {},
   "outputs": [
    {
     "data": {
      "image/png": "[encoded data removed]",
      "text/plain": [
       "<Figure size 640x480 with 1 Axes>"
      ]
     },
     "metadata": {},
     "output_type": "display_data"
    }
   ],
   "source": [
    "Poisson_Distribution =random.poisson (lam = 5, size = 1000)\n",
    "sns.histplot(Poisson_Distribution, label = \"poisson\", color = \"pink\")\n",
    "plt.title(\"The Histogram showing Visalisation of Poisson distribution\")\n",
    "plt.show()\n",
    "             "
   ]
  },
  {
   "cell_type": "code",
   "execution_count": null,
   "id": "7f32fc2c-e6fa-45a0-99c8-7983a7579bb5",
   "metadata": {},
   "outputs": [],
   "source": []
  },
  {
   "cell_type": "code",
   "execution_count": null,
   "id": "d43101cc-6247-4474-b266-4640fdff99ac",
   "metadata": {},
   "outputs": [],
   "source": []
  },
  {
   "cell_type": "code",
   "execution_count": null,
   "id": "02df045a-278d-4f9d-a105-43bbea971cc2",
   "metadata": {},
   "outputs": [],
   "source": []
  },
  {
   "cell_type": "code",
   "execution_count": null,
   "id": "64198376-1a25-447f-ac7e-6a6b4d834412",
   "metadata": {},
   "outputs": [],
   "source": []
  },
  {
   "cell_type": "code",
   "execution_count": null,
   "id": "ffcb34b7-fd49-444b-8ff8-d831eb446275",
   "metadata": {},
   "outputs": [],
   "source": []
  },
  {
   "cell_type": "code",
   "execution_count": null,
   "id": "bb9950a6-a8ad-48bb-a878-6c2a2e2b9ae3",
   "metadata": {},
   "outputs": [],
   "source": []
  },
  {
   "cell_type": "code",
   "execution_count": null,
   "id": "60dad178-ccfe-4ebf-b315-d105145b5941",
   "metadata": {},
   "outputs": [],
   "source": []
  }
 ],
 "metadata": {
  "kernelspec": {
   "display_name": "Python 3 (ipykernel)",
   "language": "python",
   "name": "python3"
  },
  "language_info": {
   "codemirror_mode": {
    "name": "ipython",
    "version": 3
   },
   "file_extension": ".py",
   "mimetype": "text/x-python",
   "name": "python",
   "nbconvert_exporter": "python",
   "pygments_lexer": "ipython3",
   "version": "3.12.5"
  }
 },
 "nbformat": 4,
 "nbformat_minor": 5
}
